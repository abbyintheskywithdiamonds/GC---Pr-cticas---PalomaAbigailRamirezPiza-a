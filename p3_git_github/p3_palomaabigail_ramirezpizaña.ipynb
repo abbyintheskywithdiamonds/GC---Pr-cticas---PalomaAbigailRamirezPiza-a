{
 "cells": [
  {
   "cell_type": "code",
   "execution_count": 1,
   "id": "421fc0f5",
   "metadata": {},
   "outputs": [
    {
     "name": "stdout",
     "output_type": "stream",
     "text": [
      "git version 2.25.1\n"
     ]
    }
   ],
   "source": [
    "git --version"
   ]
  },
  {
   "cell_type": "code",
   "execution_count": 2,
   "id": "427bad00",
   "metadata": {},
   "outputs": [],
   "source": [
    "cd practicas_genomica_computacional"
   ]
  },
  {
   "cell_type": "code",
   "execution_count": 3,
   "id": "349b1d2c",
   "metadata": {},
   "outputs": [
    {
     "name": "stdout",
     "output_type": "stream",
     "text": [
      "Initialized empty Git repository in /home/abigail/Documents/practicas_genomica_computacional/.git/\n"
     ]
    }
   ],
   "source": [
    "git init"
   ]
  },
  {
   "cell_type": "code",
   "execution_count": 4,
   "id": "6efd7279",
   "metadata": {},
   "outputs": [],
   "source": [
    "git add *"
   ]
  },
  {
   "cell_type": "code",
   "execution_count": 5,
   "id": "3f75a9b2",
   "metadata": {},
   "outputs": [
    {
     "name": "stdout",
     "output_type": "stream",
     "text": [
      "On branch master\n",
      "\n",
      "No commits yet\n",
      "\n",
      "Changes to be committed:\n",
      "  (use \"git rm --cached <file>...\" to unstage)\n",
      "\t\u001b[32mnew file:   \"mini_practicas/ControlDeFlujo_PalomaAbigailRamirezPiza\\303\\261a.ipynb\"\u001b[m\n",
      "\t\u001b[32mnew file:   \"mini_practicas/FuncPython_PalomaAbigailRamirezPiza\\303\\261a.ipynb\"\u001b[m\n",
      "\t\u001b[32mnew file:   \"mini_practicas/mp2_RamirezPiza\\303\\261a_PalomaAbigail.ipynb\"\u001b[m\n",
      "\t\u001b[32mnew file:   \"p1_dogma_central/p1_RamirezPiza\\303\\261a_PalomaAbigail.py\"\u001b[m\n",
      "\t\u001b[32mnew file:   p2_ngs_bash/data/filtered/barplot_data.txt\u001b[m\n",
      "\t\u001b[32mnew file:   p2_ngs_bash/data/filtered/cp_E_coli.gff\u001b[m\n",
      "\t\u001b[32mnew file:   p2_ngs_bash/data/raw_data/E_coli.faa\u001b[m\n",
      "\t\u001b[32mnew file:   p2_ngs_bash/data/raw_data/E_coli.fastq\u001b[m\n",
      "\t\u001b[32mnew file:   p2_ngs_bash/data/raw_data/E_coli.gb\u001b[m\n",
      "\t\u001b[32mnew file:   p2_ngs_bash/data/raw_data/E_coli.gff\u001b[m\n",
      "\t\u001b[32mnew file:   p2_ngs_bash/figures/barplot.png\u001b[m\n",
      "\t\u001b[32mnew file:   \"p2_ngs_bash/scripts/palomaabigail_ramirezpiza\\303\\261a.ipynb\"\u001b[m\n",
      "\t\u001b[32mnew file:   p2_ngs_bash/scripts/plot_gff.py\u001b[m\n",
      "\n"
     ]
    }
   ],
   "source": [
    "git status"
   ]
  },
  {
   "cell_type": "code",
   "execution_count": 6,
   "id": "33d37342",
   "metadata": {},
   "outputs": [
    {
     "name": "stdout",
     "output_type": "stream",
     "text": [
      "[master (root-commit) 6d3b6b7] Prácticas de Genomica Computacional\n",
      " 13 files changed, 243981 insertions(+)\n",
      " create mode 100644 \"mini_practicas/ControlDeFlujo_PalomaAbigailRamirezPiza\\303\\261a.ipynb\"\n",
      " create mode 100644 \"mini_practicas/FuncPython_PalomaAbigailRamirezPiza\\303\\261a.ipynb\"\n",
      " create mode 100644 \"mini_practicas/mp2_RamirezPiza\\303\\261a_PalomaAbigail.ipynb\"\n",
      " create mode 100644 \"p1_dogma_central/p1_RamirezPiza\\303\\261a_PalomaAbigail.py\"\n",
      " create mode 100644 p2_ngs_bash/data/filtered/barplot_data.txt\n",
      " create mode 100644 p2_ngs_bash/data/filtered/cp_E_coli.gff\n",
      " create mode 100644 p2_ngs_bash/data/raw_data/E_coli.faa\n",
      " create mode 100644 p2_ngs_bash/data/raw_data/E_coli.fastq\n",
      " create mode 100644 p2_ngs_bash/data/raw_data/E_coli.gb\n",
      " create mode 100644 p2_ngs_bash/data/raw_data/E_coli.gff\n",
      " create mode 100644 p2_ngs_bash/figures/barplot.png\n",
      " create mode 100644 \"p2_ngs_bash/scripts/palomaabigail_ramirezpiza\\303\\261a.ipynb\"\n",
      " create mode 100644 p2_ngs_bash/scripts/plot_gff.py\n"
     ]
    }
   ],
   "source": [
    "git commit -m \"Prácticas de Genomica Computacional\""
   ]
  },
  {
   "cell_type": "code",
   "execution_count": 7,
   "id": "12067229",
   "metadata": {},
   "outputs": [],
   "source": [
    "touch p1_dogma_central/README.md"
   ]
  },
  {
   "cell_type": "code",
   "execution_count": 8,
   "id": "2e5e6e36",
   "metadata": {},
   "outputs": [
    {
     "name": "stdout",
     "output_type": "stream",
     "text": [
      "On branch master\n",
      "Untracked files:\n",
      "  (use \"git add <file>...\" to include in what will be committed)\n",
      "\t\u001b[31mp1_dogma_central/README.md\u001b[m\n",
      "\n",
      "nothing added to commit but untracked files present (use \"git add\" to track)\n"
     ]
    }
   ],
   "source": [
    "git status"
   ]
  },
  {
   "cell_type": "code",
   "execution_count": 9,
   "id": "f1efff27",
   "metadata": {},
   "outputs": [],
   "source": [
    "git add p1_dogma_central/README.md"
   ]
  },
  {
   "cell_type": "code",
   "execution_count": 10,
   "id": "700963f1",
   "metadata": {},
   "outputs": [
    {
     "name": "stdout",
     "output_type": "stream",
     "text": [
      "[master ecb3250] Descripcion de programa.\n",
      " 1 file changed, 27 insertions(+)\n",
      " create mode 100644 p1_dogma_central/README.md\n"
     ]
    }
   ],
   "source": [
    "git commit -m \"Descripcion de programa.\""
   ]
  },
  {
   "cell_type": "code",
   "execution_count": 9,
   "id": "73997bdb",
   "metadata": {},
   "outputs": [
    {
     "name": "stdout",
     "output_type": "stream",
     "text": [
      "commit d4665aff04f28f19189100494827570a06722f91\n",
      "Author: Paloma Abigail Ramírez Pizaña <abigailp@ciencias.unam.mx>\n",
      "Date:   Sun Jun 5 18:21:46 2022 -0500\n",
      "\n",
      "    Descripcion de programa.\n",
      "\n",
      "commit 4da406747011bc3853aad50886edd3c53734cea6\n",
      "Author: Paloma Abigail Ramírez Pizaña <abigailp@ciencias.unam.mx>\n",
      "Date:   Sun Jun 5 18:03:46 2022 -0500\n",
      "\n",
      "    Prácticas de Genomica Computacional\n"
     ]
    }
   ],
   "source": [
    "git log"
   ]
  },
  {
   "cell_type": "code",
   "execution_count": 13,
   "id": "cadefa18",
   "metadata": {},
   "outputs": [
    {
     "name": "stdout",
     "output_type": "stream",
     "text": [
      "* \u001b[32mmaster\u001b[m\n"
     ]
    }
   ],
   "source": [
    "git branch"
   ]
  },
  {
   "cell_type": "code",
   "execution_count": 4,
   "id": "b2d1ea60",
   "metadata": {},
   "outputs": [],
   "source": [
    "git branch -M main"
   ]
  },
  {
   "cell_type": "code",
   "execution_count": 5,
   "id": "b11f37d4",
   "metadata": {},
   "outputs": [],
   "source": [
    "git remote add origin https://github.com/abbyintheskywithdiamonds/GC---Pr-cticas---PalomaAbigailRamirezPiza-a.git"
   ]
  },
  {
   "cell_type": "code",
   "execution_count": 7,
   "id": "3f43ca95",
   "metadata": {},
   "outputs": [
    {
     "name": "stdout",
     "output_type": "stream",
     "text": [
      "Branch 'main' set up to track remote branch 'main' from 'origin'.\n"
     ]
    }
   ],
   "source": [
    "git branch --set-upstream-to=origin/main main"
   ]
  },
  {
   "cell_type": "code",
   "execution_count": 4,
   "id": "02c4eed2",
   "metadata": {},
   "outputs": [
    {
     "name": "stdout",
     "output_type": "stream",
     "text": [
      "Already up to date.\n"
     ]
    }
   ],
   "source": [
    "git pull --allow-unrelated-histories # La primera vez nunca terminó de ejecutarse"
   ]
  },
  {
   "cell_type": "code",
   "execution_count": 5,
   "id": "ed7daca2",
   "metadata": {},
   "outputs": [
    {
     "name": "stdout",
     "output_type": "stream",
     "text": [
      "On branch main\n",
      "Your branch is ahead of 'origin/main' by 3 commits.\n",
      "  (use \"git push\" to publish your local commits)\n",
      "\n",
      "nothing to commit, working tree clean\n"
     ]
    },
    {
     "ename": "",
     "evalue": "1",
     "output_type": "error",
     "traceback": []
    }
   ],
   "source": [
    "git commit # para terminar el merge, no pude ejecutarlo la primera vez pq el comando anterior se trabó"
   ]
  }
 ],
 "metadata": {
  "kernelspec": {
   "display_name": "Bash",
   "language": "bash",
   "name": "bash"
  },
  "language_info": {
   "codemirror_mode": "shell",
   "file_extension": ".sh",
   "mimetype": "text/x-sh",
   "name": "bash"
  }
 },
 "nbformat": 4,
 "nbformat_minor": 5
}
