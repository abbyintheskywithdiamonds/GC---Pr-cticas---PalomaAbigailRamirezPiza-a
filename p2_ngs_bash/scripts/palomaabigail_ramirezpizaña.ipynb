{
 "cells": [
  {
   "cell_type": "markdown",
   "id": "33a95908",
   "metadata": {},
   "source": [
    "# Parte 1"
   ]
  },
  {
   "cell_type": "code",
   "execution_count": 1,
   "id": "5ceffaec",
   "metadata": {},
   "outputs": [],
   "source": [
    "cd /home/abigail/Documents"
   ]
  },
  {
   "cell_type": "code",
   "execution_count": 2,
   "id": "1f8b3abf",
   "metadata": {},
   "outputs": [],
   "source": [
    "mkdir -p p2_palomaabigail_ramirezpizaña"
   ]
  },
  {
   "cell_type": "code",
   "execution_count": 3,
   "id": "10256a74",
   "metadata": {},
   "outputs": [],
   "source": [
    "cd p2_palomaabigail_ramirezpizaña"
   ]
  },
  {
   "cell_type": "code",
   "execution_count": 4,
   "id": "8fff87f2",
   "metadata": {},
   "outputs": [
    {
     "name": "stdout",
     "output_type": "stream",
     "text": [
      "/home/abigail/Documents/p2_palomaabigail_ramirezpizaña\n"
     ]
    }
   ],
   "source": [
    "pwd"
   ]
  },
  {
   "cell_type": "code",
   "execution_count": 5,
   "id": "3458498a",
   "metadata": {},
   "outputs": [
    {
     "name": "stdout",
     "output_type": "stream",
     "text": [
      "/usr/bin/bash\n"
     ]
    }
   ],
   "source": [
    "echo $0"
   ]
  },
  {
   "cell_type": "code",
   "execution_count": 6,
   "id": "75d81027",
   "metadata": {},
   "outputs": [],
   "source": [
    "mkdir -p data raw_data filtered meta scripts figures archive"
   ]
  },
  {
   "cell_type": "code",
   "execution_count": 7,
   "id": "ec4223f4",
   "metadata": {},
   "outputs": [
    {
     "name": "stdout",
     "output_type": "stream",
     "text": [
      "\u001b[0m\u001b[01;34marchive\u001b[0m  \u001b[01;34mdata\u001b[0m  \u001b[01;34mfigures\u001b[0m  \u001b[01;34mfiltered\u001b[0m  \u001b[01;34mmeta\u001b[0m  \u001b[01;34mraw_data\u001b[0m  \u001b[01;34mscripts\u001b[0m\n"
     ]
    }
   ],
   "source": [
    "ls"
   ]
  },
  {
   "cell_type": "code",
   "execution_count": 8,
   "id": "071150e2",
   "metadata": {},
   "outputs": [
    {
     "ename": "",
     "evalue": "1",
     "output_type": "error",
     "traceback": []
    }
   ],
   "source": [
    "mv raw_data filtered data 2> /dev/null # suprimir errores cuando se corre mas de una vez"
   ]
  },
  {
   "cell_type": "code",
   "execution_count": 10,
   "id": "b4373524",
   "metadata": {},
   "outputs": [
    {
     "name": "stdout",
     "output_type": "stream",
     "text": [
      "\u001b[0m\u001b[01;34marchive\u001b[0m  \u001b[01;34mdata\u001b[0m  \u001b[01;34mfigures\u001b[0m  \u001b[01;34mmeta\u001b[0m  \u001b[01;34mscripts\u001b[0m\n"
     ]
    }
   ],
   "source": [
    "ls"
   ]
  },
  {
   "cell_type": "code",
   "execution_count": 11,
   "id": "8b320315",
   "metadata": {},
   "outputs": [
    {
     "name": "stdout",
     "output_type": "stream",
     "text": [
      "\u001b[0m\u001b[01;34mfiltered\u001b[0m  \u001b[01;34mraw_data\u001b[0m\n"
     ]
    }
   ],
   "source": [
    "ls data"
   ]
  },
  {
   "cell_type": "markdown",
   "id": "7427ab34",
   "metadata": {},
   "source": [
    "### ¿A qué se debe el nombre y la organización de los directorios que acabamos de crear?\n",
    "\n",
    "Se debe a que cada proyecto bioinformático debe tener su propio directorio y sus respectivos subdirectorios donde contengan y se organicen todos los datos utilizados para el análisis.\n",
    "\n",
    "En data se guardan los datos genéticos como espaciales, así como separar los datos crudos de los modificados. Meta almacena todos los metadatos. Los scripts generados se almacenan en scripts. Mientras que en Figures se almacenan los códigos para las figuras. Finalmente en Archive queda como respaldo de los archivos que probablemente ya no se necesiten pero que tampoco serán borrados. Este directorio no se sube al repositorio."
   ]
  },
  {
   "cell_type": "markdown",
   "id": "9ddd8e3f",
   "metadata": {},
   "source": [
    "# Parte 2"
   ]
  },
  {
   "cell_type": "markdown",
   "id": "2b62c750",
   "metadata": {},
   "source": [
    "### Organismo elegido:\n",
    "\n",
    "Escherichia coli es una especie de enterobacteria que presenta forma de bacilo, es gramnegativa y anaerobia facultativa y su motilidad es por flagelos.\n",
    "\n",
    "Es la bacteria más abundante de la microbiota del tracto gastrointestinal y participa en su correcto funcionamiento. Sin embargo, se han descrito diferentes cepas que han adquirido mutaciones que funcionan como factores de patogenicidad. Su alta morbilidad, así como la variedad en síndromes y cuadros clínicos asociados a sus infecciones, hacen que sea uno de los patógenos más relevantes para el humano.\n",
    "\n",
    "Es utilizado como modelo por su velocidad de crecimiento, pocos requerimientos nutricionales y su amplia bibliografía. Es usada en experimentos de genética y biología molecular por la estructura y flexibilidad de su genoma."
   ]
  },
  {
   "cell_type": "markdown",
   "id": "7802bda5",
   "metadata": {},
   "source": [
    "### ¿Existe una publicación sobre la secuenciación y ensamblado de su genoma? Colóca la fuente en formato APA.\n",
    "\n",
    "Blattner,F.R., Plunkett,G. III, Bloch,C.A., Perna,N.T., Burland,V., Riley,M., Collado-Vides,J., Glasner,J.D., Rode,C.K., Mayhew,G.F., Gregor,J., Davis,N.W., Kirkpatrick,H.A., Goeden,M.A., Rose,D.J.,Mau,B., Shao,Y. 1997. The complete genome sequence of Escherichia coli K-12. Science. 277:(5331), 1453-1474."
   ]
  },
  {
   "cell_type": "markdown",
   "id": "85544018",
   "metadata": {},
   "source": [
    "### ¿Qué plataforma de secuenciación se utilizó? Explica brevemente las características de esa plataforma de secuenciación.\n",
    "\n",
    "En el artículo no mencionan qué plataforma usaron. Sòlo dice que hicieron la secuenciación en dos partes, usando diferentes técnicas."
   ]
  },
  {
   "cell_type": "code",
   "execution_count": 12,
   "id": "8588cfe7",
   "metadata": {},
   "outputs": [
    {
     "ename": "",
     "evalue": "1",
     "output_type": "error",
     "traceback": []
    }
   ],
   "source": [
    "mv E_coli.* data/raw_data 2> /dev/null"
   ]
  },
  {
   "cell_type": "code",
   "execution_count": 13,
   "id": "68103d4a",
   "metadata": {},
   "outputs": [
    {
     "name": "stdout",
     "output_type": "stream",
     "text": [
      "total 20K\n",
      "drwxrwxr-x 2 x2c x2c 4.0K Jun  4 19:26 \u001b[0m\u001b[01;34marchive\u001b[0m\n",
      "drwxrwxr-x 4 x2c x2c 4.0K Jun  4 19:27 \u001b[01;34mdata\u001b[0m\n",
      "drwxrwxr-x 2 x2c x2c 4.0K Jun  4 19:26 \u001b[01;34mfigures\u001b[0m\n",
      "drwxrwxr-x 2 x2c x2c 4.0K Jun  4 19:26 \u001b[01;34mmeta\u001b[0m\n",
      "drwxrwxr-x 2 x2c x2c 4.0K Jun  4 19:26 \u001b[01;34mscripts\u001b[0m\n"
     ]
    }
   ],
   "source": [
    "ls -lh"
   ]
  },
  {
   "cell_type": "code",
   "execution_count": 14,
   "id": "70b5a4d1",
   "metadata": {},
   "outputs": [
    {
     "name": "stdout",
     "output_type": "stream",
     "text": [
      "total 1.1G\n",
      "-rw-rw-r-- 1 x2c x2c 4.5M Jun  4 19:37 E_coli.faa\n",
      "-rw-rw-r-- 1 x2c x2c 1.1G Jun  4 19:39 E_coli.fastq\n",
      "-rw-rw-r-- 1 x2c x2c 5.6M Jun  4 19:36 E_coli.gb\n",
      "-rw-rw-r-- 1 x2c x2c 6.4M Jun  4 19:36 E_coli.gff\n"
     ]
    }
   ],
   "source": [
    "ls -lh data/raw_data"
   ]
  },
  {
   "cell_type": "code",
   "execution_count": 15,
   "id": "01b0ad62",
   "metadata": {},
   "outputs": [],
   "source": [
    "cp data/raw_data/E_coli.gff data/filtered/"
   ]
  },
  {
   "cell_type": "code",
   "execution_count": 16,
   "id": "77000d67",
   "metadata": {},
   "outputs": [
    {
     "name": "stdout",
     "output_type": "stream",
     "text": [
      "total 6.4M\n",
      "-rw-rw-r-- 1 x2c x2c 6.4M Jun  4 22:47 E_coli.gff\n"
     ]
    }
   ],
   "source": [
    "ls -lh data/filtered"
   ]
  },
  {
   "cell_type": "code",
   "execution_count": 17,
   "id": "27895edd",
   "metadata": {},
   "outputs": [
    {
     "name": "stdout",
     "output_type": "stream",
     "text": [
      "@SRR292770.1 FCB067LABXX:4:1101:1155:2103 length=49\n",
      "GGAGTCATCATACGGCGCTGATCGAGACCGCAACGACTTTAAGGTCGCA\n",
      "+SRR292770.1 FCB067LABXX:4:1101:1155:2103 length=49\n",
      "FFFFCFGDCGGGFCGBGFFFAEGFG;B7A@GEFBFGGFFGFGEFCFFFB\n",
      "@SRR292770.2 FCB067LABXX:4:1101:1183:2110 length=49\n",
      "TGTATGGCATGTTGGGCCGCGCTATAGGGATGATGGACACACAGCATAA\n",
      "+SRR292770.2 FCB067LABXX:4:1101:1183:2110 length=49\n",
      "FFFFF@GGGGHHHBDHHFHHHHH@FEHGHFHHHGHHHHGHDHHCHG?HF\n",
      "@SRR292770.3 FCB067LABXX:4:1101:1166:2158 length=49\n",
      "TCCCGCCATTCGGCTTCGTCCATGCTGTCGGCTGCCAGCCATAAATGTT\n",
      "+SRR292770.3 FCB067LABXX:4:1101:1166:2158 length=49\n",
      "GFGGDGGFGGGG@GFGGFG@EFDFFEGFDE?>BC9>.:*>8<4</;?A>\n"
     ]
    }
   ],
   "source": [
    "head -n 12 data/raw_data/E_coli.fastq"
   ]
  },
  {
   "cell_type": "code",
   "execution_count": 18,
   "id": "9997c0b0",
   "metadata": {},
   "outputs": [
    {
     "name": "stdout",
     "output_type": "stream",
     "text": [
      ">gi|1\n",
      "agcttttcattctgactgcaacgggcaatatgtctctgtgtggattaaaaaaagagtgtctgatagcagcttctgaactg\n",
      "gttacctgccgtgagtaaattaaaattttattgacttaggtcactaaatactttaaccaatataggcatagcgcacagac\n",
      "agataaaaattacagagtacacaacatccatgaaacgcattagcaccaccattaccaccaccatcaccattaccacaggt\n",
      "aacggtgcgggctgacgcgtacaggaaacacagaaaaaagcccgcacctgacagtgcgggctttttttttcgaccaaagg\n",
      "taacgaggtaacaaccatgcgagtgttgaagttcggcggtacatcagtggcaaatgcagaacgttttctgcgtgttgccg\n",
      "atattctggaaagcaatgccaggcaggggcaggtggccaccgtcctctctgcccccgccaaaatcaccaaccacctggtg\n",
      "gcgatgattgaaaaaaccattagcggccaggatgctttacccaatatcagcgatgccgaacgtatttttgccgaactttt\n",
      "gacgggactcgccgccgcccagccggggttcccgctggcgcaattgaaaactttcgtcgatcaggaatttgcccaaataa\n",
      "aacatgtcctgcatggcattagtttgttggggcagtgcccggatagcatcaacgctgcgctgatttgccgtggcgagaaa\n",
      "atgtcgatcgccattatggccggcgtattagaagcgcgcggtcacaacgttactgttatcgatccggtcgaaaaactgct\n",
      "ggcagtggggcattacctcgaatctaccgtcgatattgctgagtccacccgccgtattgcggcaagccgcattccggctg\n"
     ]
    }
   ],
   "source": [
    "head -n 12 data/raw_data/E_coli.faa"
   ]
  },
  {
   "cell_type": "code",
   "execution_count": 19,
   "id": "d5ca95e5",
   "metadata": {},
   "outputs": [
    {
     "name": "stdout",
     "output_type": "stream",
     "text": [
      "##gff-version\t3\n",
      "##Generated by CoGe\n",
      "##Organism name: Escherichia coli K12 strain K-12 substrain MG1655\n",
      "##Organism desc: Bacteria; Proteobacteria; Gammaproteobacteria; Enterobacteriales; Enterobacteriaceae; Escherichia\n",
      "##Version: 2\n",
      "##CoGe Genome ID (gid): 4242\n",
      "##CoGe GenomeInfo Link: https://genomevolution.org/coge//GenomeInfo.pl?gid=4242\n",
      "##\n",
      "##\n",
      "##CoGe Dataset ID: 36725\n",
      "##CoGe Dataset Name: NC_000913.gbk\n",
      "##CoGe Dataset Desc: LOCUS: NC_000913, ACCESSION: NC_000913, VERSION: 2\n"
     ]
    }
   ],
   "source": [
    "head -n 12 data/raw_data/E_coli.gff"
   ]
  },
  {
   "cell_type": "markdown",
   "id": "3e7addd7",
   "metadata": {},
   "source": [
    "En el archivo fastq una secuencia utiliza 4 líneas, por lo cual simplemente se puede contar el número de líneas y dividirlo entre 4 usando awk."
   ]
  },
  {
   "cell_type": "code",
   "execution_count": 20,
   "id": "4af6a4e2",
   "metadata": {},
   "outputs": [
    {
     "name": "stdout",
     "output_type": "stream",
     "text": [
      "5102041\n"
     ]
    }
   ],
   "source": [
    "awk \"{s++}END{print s/4}\" data/raw_data/E_coli.fastq"
   ]
  },
  {
   "cell_type": "markdown",
   "id": "c38bd102",
   "metadata": {},
   "source": [
    "En el archivo fasta una secuencia inicia con el caracter '>', por lo cual se puede contar el número de secuencias contando el número de líneas que contiene al caracter '>'. Lo anterior se puede realizar utilizando el comando grep de la siguiente manera."
   ]
  },
  {
   "cell_type": "code",
   "execution_count": 21,
   "id": "81ff76ba",
   "metadata": {},
   "outputs": [
    {
     "name": "stdout",
     "output_type": "stream",
     "text": [
      "1\n"
     ]
    }
   ],
   "source": [
    "grep -c \"^>\" data/raw_data/E_coli.faa"
   ]
  },
  {
   "cell_type": "markdown",
   "id": "53ffe12f",
   "metadata": {},
   "source": [
    "### Explica las diferencias entre los formatos faa, fna, fastq, fasta y gff.\n",
    "\n",
    "El formato FASTA se utiliza para representar distintos tipos de secuencias. Para representar este formato se utiliza la extensión .fasta, o también se pueden utilizar .faa y .fna. Por lo general, .faa se utiliza para denotar que la secuencia es un aminoácido y .fna para denotar que la secuencia es un ácido nucleico.\n",
    "\n",
    "El formato FASTQ además de contener secuencias biológicas, también contiene información sobre la calidad.\n",
    "\n",
    "El formato GFF describe genes y otras características de las secuencias biológicas. Se utiliza para describir regiones de los genomas."
   ]
  },
  {
   "cell_type": "markdown",
   "id": "66029d99",
   "metadata": {},
   "source": [
    "### Diferencias entre less y less -S\n",
    "\n",
    "La diferencia es que al abrir el archivo con la opción -S la líneas que no caben en la pantalla se trunquen, en vez de plegarse y mostrarse como múltiples líneas. Esto facilita visualizar el format de los archivos gff dado que se visualiza mejor como una tabla."
   ]
  },
  {
   "cell_type": "code",
   "execution_count": 22,
   "id": "3e8c5456",
   "metadata": {},
   "outputs": [],
   "source": [
    "cd data/filtered"
   ]
  },
  {
   "cell_type": "code",
   "execution_count": 23,
   "id": "d2f999eb",
   "metadata": {},
   "outputs": [],
   "source": [
    "mv E_coli.gff cp_E_coli.gff"
   ]
  },
  {
   "cell_type": "code",
   "execution_count": 24,
   "id": "caee46bf",
   "metadata": {},
   "outputs": [
    {
     "name": "stdout",
     "output_type": "stream",
     "text": [
      "cp_E_coli.gff\n"
     ]
    }
   ],
   "source": [
    "ls"
   ]
  },
  {
   "cell_type": "code",
   "execution_count": 30,
   "id": "23b608a6",
   "metadata": {},
   "outputs": [
    {
     "name": "stdout",
     "output_type": "stream",
     "text": [
      "8568\n"
     ]
    }
   ],
   "source": [
    "awk '$3 == \"gene\" {g++} END {print g}' cp_E_coli.gff"
   ]
  },
  {
   "cell_type": "markdown",
   "id": "9e47d008",
   "metadata": {},
   "source": [
    "### ¿A qué corresponde el campo tres?\n",
    "\n",
    "El tercer campo corresponde al tipo sobre el cuál se está almacenando la información, por ejemplo gen o cromosoma.\n",
    "\n",
    "### ¿Cuál es la diferencia entre gene y CDS?\n",
    "Las CDS son las regiones del gen que específicamente codifica para la proteína. Sin embargo, el gen completo incluye a la CDS, así como las regiones no codificantes como la región promotora y la región de término"
   ]
  },
  {
   "cell_type": "markdown",
   "id": "16699e2a",
   "metadata": {},
   "source": [
    "# Parte 3"
   ]
  },
  {
   "cell_type": "code",
   "execution_count": 37,
   "id": "d9b81b59",
   "metadata": {},
   "outputs": [],
   "source": [
    "awk '/^#/{next}{count[$3]++}END{for(f in count){print f, count[f]}}' cp_E_coli.gff > barplot_data.txt"
   ]
  },
  {
   "cell_type": "code",
   "execution_count": 38,
   "id": "e64bf798",
   "metadata": {},
   "outputs": [
    {
     "name": "stdout",
     "output_type": "stream",
     "text": [
      "CDS 8355\n",
      "mat_peptide 485\n",
      "tmRNA 1\n",
      "gene 8568\n",
      "exon 8569\n",
      "pseudogene 410\n",
      "misc_feature 13\n",
      "rep_origin 1\n",
      "misc_RNA 58\n",
      "tRNA 133\n",
      "mRNA 8402\n",
      "repeat_region 400\n",
      "rRNA 22\n",
      "chromosome 1\n"
     ]
    }
   ],
   "source": [
    "cat barplot_data.txt"
   ]
  },
  {
   "cell_type": "code",
   "execution_count": 35,
   "id": "d155957a",
   "metadata": {},
   "outputs": [],
   "source": [
    "cd /home/abigail/Documents/p2_palomaabigail_ramirezpizaña"
   ]
  },
  {
   "cell_type": "code",
   "execution_count": 40,
   "id": "f7bfabe6",
   "metadata": {},
   "outputs": [],
   "source": [
    "echo \"\n",
    "import numpy as np\n",
    "import matplotlib.pyplot as plt\n",
    "from textwrap import wrap\n",
    "\n",
    "frecuencias = [8355, 485, 1, 8568, 8569, 410, 13, 1, 58, 133, 8402, 400, 22, 1]\n",
    "\n",
    "categorias = ['CDS', 'mat_peptide', 'tmRNA', 'gene', 'exon', 'pseudogene', \n",
    "              'misc_feature', 'rep_origin', 'misc_RNA', 'tRNA', 'mRNA', \n",
    "              'repeat_region', 'rRNA', 'chromosome']\n",
    "              \n",
    "\n",
    "y_pos = np.arange(len(categorias))\n",
    "\n",
    "# Gráfico de barras\n",
    "plt.bar(y_pos, frecuencias)\n",
    "\n",
    "# Nombres en el eje-x\n",
    "plt.xticks(y_pos, categorias, rotation=90)\n",
    "\n",
    "# Guardar la grafica\n",
    "plt.plot()\n",
    "plt.savefig('figures/barplot.png', bbox_inches='tight')\n",
    "\n",
    "\" > scripts/plot_gff.py"
   ]
  },
  {
   "cell_type": "code",
   "execution_count": 39,
   "id": "6e65b6bb",
   "metadata": {},
   "outputs": [],
   "source": [
    "python3 scripts/plot_gff.py"
   ]
  }
 ],
 "metadata": {
  "kernelspec": {
   "display_name": "Bash",
   "language": "bash",
   "name": "bash"
  },
  "language_info": {
   "codemirror_mode": "shell",
   "file_extension": ".sh",
   "mimetype": "text/x-sh",
   "name": "bash"
  }
 },
 "nbformat": 4,
 "nbformat_minor": 5
}
