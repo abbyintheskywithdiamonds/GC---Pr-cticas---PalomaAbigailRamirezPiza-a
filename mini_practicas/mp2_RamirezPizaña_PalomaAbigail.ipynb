{
 "cells": [
  {
   "cell_type": "code",
   "execution_count": 40,
   "id": "6125f9c6",
   "metadata": {},
   "outputs": [
    {
     "name": "stdout",
     "output_type": "stream",
     "text": [
      "Ingresa un codon\n",
      "TCC\n",
      "No es un codon de inicio ni de termino\n"
     ]
    }
   ],
   "source": [
    "# Crea un programa en el que un usuario ingrese un codón y el programa arroje un mensaje que diga si se trata de un codón de stop, de inicio o ninguno de los dos.\n",
    "\n",
    "cod_inicio = (\"AUG\")\n",
    "cod_stop = (\"UAA\", \"UAG\", \"UGA\")\n",
    "\n",
    "print(\"Ingresa un codon\")\n",
    "codon = input()\n",
    "\n",
    "if codon == cod_inicio:\n",
    "    print(\"Es un codon de inicio\")\n",
    "if codon == cod_stop:\n",
    "    print(\"Es un codon de termino\")\n",
    "else:\n",
    "    print(\"No es un codon de inicio ni de termino\")"
   ]
  },
  {
   "cell_type": "code",
   "execution_count": 61,
   "id": "e4dbce42",
   "metadata": {},
   "outputs": [
    {
     "name": "stdout",
     "output_type": "stream",
     "text": [
      "El contenido de A es: 25.67\n",
      "El contenido de T es: 24.0\n",
      "El contenido de C es: 26.0\n",
      "El contenido de G es: 24.33\n"
     ]
    }
   ],
   "source": [
    "# Crea un programa que arroje la frecuencia de A, T, C y G de una cadena de DNA de 300 nucleotídos.\n",
    "\n",
    "import random\n",
    "\n",
    "def generar_secuencia(tamaño = int(), codigo = \"CTGA\"):\n",
    "    return''.join(random.choices(codigo, k = tamaño))\n",
    "\n",
    "dna = generar_secuencia(300)\n",
    "\n",
    "A = dna.count (\"A\")\n",
    "T = dna.count (\"T\")\n",
    "C = dna.count (\"C\")\n",
    "G = dna.count (\"G\")\n",
    "\n",
    "A_cont = round((A/len(dna)*100),2)\n",
    "print(\"El contenido de A es:\", format(A_cont))\n",
    "\n",
    "T_cont = round((T/len(dna)*100),2)\n",
    "print(\"El contenido de T es:\", format(T_cont))\n",
    "\n",
    "C_cont = round((C/len(dna)*100),2)\n",
    "print(\"El contenido de C es:\", format(C_cont))\n",
    "\n",
    "G_cont = round((G/len(dna)*100),2)\n",
    "print(\"El contenido de G es:\", format(G_cont))"
   ]
  },
  {
   "cell_type": "code",
   "execution_count": null,
   "id": "a736f57c",
   "metadata": {},
   "outputs": [],
   "source": [
    "# Listas de comprehensión.\n",
    "'''1. Crea una lista que contenga 5 cadenas de DNA de 50 nucleótidos cada una.\n",
    "2. Extrae de cada cadena el codón número 3.\n",
    "3. El programa debe dar como resultado una lista con los codones que extrajíste'''"
   ]
  },
  {
   "cell_type": "code",
   "execution_count": 92,
   "id": "2a5ef886",
   "metadata": {},
   "outputs": [
    {
     "name": "stdout",
     "output_type": "stream",
     "text": [
      "CAA\n",
      "ACT\n",
      "AGC\n",
      "AAA\n",
      "CGG\n"
     ]
    }
   ],
   "source": [
    "# Respuesta con for y append()\n",
    "\n",
    "seqs = []\n",
    "\n",
    "for i in range(5):\n",
    "    seqs.append(generar_secuencia(50))\n",
    "for i in seqs:\n",
    "    print(i[6:9])"
   ]
  },
  {
   "cell_type": "code",
   "execution_count": 139,
   "id": "571b43bc",
   "metadata": {},
   "outputs": [
    {
     "name": "stdout",
     "output_type": "stream",
     "text": [
      "CAA\n",
      "ACT\n",
      "AGC\n",
      "AAA\n",
      "CGG\n"
     ]
    }
   ],
   "source": [
    "# Respuesta con lista de comprensión\n",
    "\n",
    "seqs2 = [generar_secuencia(50) for i in range(5)]\n",
    "for i in seqs:\n",
    "    print(i[6:9])"
   ]
  }
 ],
 "metadata": {
  "kernelspec": {
   "display_name": "Python 3 (ipykernel)",
   "language": "python",
   "name": "python3"
  },
  "language_info": {
   "codemirror_mode": {
    "name": "ipython",
    "version": 3
   },
   "file_extension": ".py",
   "mimetype": "text/x-python",
   "name": "python",
   "nbconvert_exporter": "python",
   "pygments_lexer": "ipython3",
   "version": "3.7.1"
  }
 },
 "nbformat": 4,
 "nbformat_minor": 5
}
