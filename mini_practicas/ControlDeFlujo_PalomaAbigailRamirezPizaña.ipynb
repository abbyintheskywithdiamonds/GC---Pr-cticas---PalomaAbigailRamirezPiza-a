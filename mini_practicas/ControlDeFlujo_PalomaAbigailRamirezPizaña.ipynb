{
 "cells": [
  {
   "cell_type": "code",
   "execution_count": 1,
   "id": "a5c3ef35",
   "metadata": {},
   "outputs": [
    {
     "name": "stdout",
     "output_type": "stream",
     "text": [
      "Genomica Computacional\n",
      "Esta es la iteracion: 1cuando el contador vale0\n",
      "Genomica Computacional\n",
      "Esta es la iteracion: 2cuando el contador vale1\n",
      "Genomica Computacional\n",
      "Esta es la iteracion: 3cuando el contador vale2\n",
      "Genomica Computacional\n",
      "Esta es la iteracion: 4cuando el contador vale3\n",
      "Genomica Computacional\n",
      "Esta es la iteracion: 5cuando el contador vale4\n",
      "Genomica Computacional\n",
      "Esta es la iteracion: 6cuando el contador vale5\n",
      "Genomica Computacional\n",
      "Esta es la iteracion: 7cuando el contador vale6\n",
      "Genomica Computacional\n",
      "Esta es la iteracion: 8cuando el contador vale7\n",
      "Genomica Computacional\n",
      "Esta es la iteracion: 9cuando el contador vale8\n",
      "Genomica Computacional\n",
      "Esta es la iteracion: 10cuando el contador vale9\n",
      "\n",
      " Fin del bucle. \n"
     ]
    }
   ],
   "source": [
    "# While con contador\n",
    "\n",
    "contador = 0\n",
    "\n",
    "while contador < 10:\n",
    "    print(\"Genomica Computacional\")\n",
    "    print(\"Esta es la iteracion: \" + str(contador + 1) + \"cuando el contador vale \" + str(contador))\n",
    "    contador += 1\n",
    "    \n",
    "print(\"\\n Fin del bucle. \")"
   ]
  },
  {
   "cell_type": "code",
   "execution_count": 2,
   "id": "8c1dc564",
   "metadata": {},
   "outputs": [
    {
     "data": {
      "text/plain": [
       "'GNKKLSQAQRPYYLVGQYLGNWNRLGGHEVSLGCNIGPETQYWCNIWGWAHEIKKEDGQAMGHCEMGTPCCPPTINDCMYDIGGLPYSRHAGITLDPRSAAECPKPNHIFFGSCQVYVPWMAKKNKWWRCYLVHDYNHGLGSGPHYNPWGKEATKTLYERNSPYIEMLDKDLFGKQQFPPALTHMQSYQGGYEIDQNTLMEVADIPMECQMVVGHYGPTNIGGQRGAVGWETFNYCTPWTQSWWNCTTDCYTKAPQFIMMRRIGNFLVQNGFQDHYWFMWLNHCAHVSISNLKPVGVIPP'"
      ]
     },
     "execution_count": 2,
     "metadata": {},
     "output_type": "execute_result"
    }
   ],
   "source": [
    "# Generar un programa que cuente cuantas veces aparece un patron en una cadena de caracteres (un peptido) sin utilizar la funcion str.count()\n",
    "## Generar peptido\n",
    "\n",
    "import random\n",
    "\n",
    "def generar_secuencia(tamaño = int(), codigo = \"ARNDCQGEGHILKMFPSTWYV\"):\n",
    "    secuencia = ''.join(random.choices(codigo, k = tamaño))\n",
    "    return secuencia\n",
    "\n",
    "peptido = generar_secuencia(300)\n",
    "\n",
    "peptido"
   ]
  },
  {
   "cell_type": "code",
   "execution_count": 14,
   "id": "83ba2d57",
   "metadata": {},
   "outputs": [
    {
     "name": "stdout",
     "output_type": "stream",
     "text": [
      "Peptido WLLDKYMFGWYPCSGCSDGIPIGEAYYGDGPVAYMERQPANVFWGYVHHSTRVRNAWDDNNQAGEYYHDDYHCFKWYNGYFQSIRWRIQEFWGDWFRLCWAQKWLWPQGFGKQSSGGNPDYVIIYQTEDHRRPYWHYWNLRRLTGNLDCCSYLKGDEFFCTRPDWVCWKSRNVPHEITSQHGHMYSIATHLGLGRHEGESEQGYGGAWWESGGPSETLGCIICARQWIDFFYMVMTQIFCEGYILNGEQWQAHPWKNPKVANIDYRDQEGKNKLPKMVGKNSGMGTHHWGLFDDYTLPTG\n",
      "Par de base T\n",
      "Usar str.count():  11\n",
      "Contar con ciclo while 11\n",
      "Tamaño de la secuencia con len() 300\n",
      "Valor de indice 300\n"
     ]
    }
   ],
   "source": [
    "#Imprimir secuencia de aa\n",
    "print(\"Peptido\", peptido)\n",
    "\n",
    "#Seleccionar patron\n",
    "aa = \"T\" # T = Treonina\n",
    "\n",
    "# Imprimir patron seleccionado\n",
    "print(\"Par de base\", aa)\n",
    "\n",
    "#Imprimir resutado utilizando la funcion 'str.count()'\n",
    "print(\"Usar str.count(): \", peptido.count(aa))\n",
    "\n",
    "#Definir variables\n",
    "contador = 0\n",
    "indice = 0\n",
    "\n",
    "#Ciclo while\n",
    "while indice < len(peptido):\n",
    "    if aa == peptido[indice]:\n",
    "        contador += 1\n",
    "    indice += 1\n",
    "    \n",
    "print(\"Contar con ciclo while\", contador)\n",
    "print(\"Tamaño de la secuencia con len()\", len(peptido))\n",
    "print(\"Valor de indice\", indice)\n",
    "\n"
   ]
  },
  {
   "cell_type": "code",
   "execution_count": 3,
   "id": "967388eb",
   "metadata": {
    "scrolled": false
   },
   "outputs": [
    {
     "data": {
      "text/plain": [
       "'G'"
      ]
     },
     "execution_count": 3,
     "metadata": {},
     "output_type": "execute_result"
    }
   ],
   "source": [
    "peptido[0]"
   ]
  },
  {
   "cell_type": "code",
   "execution_count": 4,
   "id": "88ed4cc1",
   "metadata": {},
   "outputs": [
    {
     "data": {
      "text/plain": [
       "'N'"
      ]
     },
     "execution_count": 4,
     "metadata": {},
     "output_type": "execute_result"
    }
   ],
   "source": [
    "peptido[1]"
   ]
  },
  {
   "cell_type": "code",
   "execution_count": null,
   "id": "7da05627",
   "metadata": {},
   "outputs": [],
   "source": []
  },
  {
   "cell_type": "code",
   "execution_count": 5,
   "id": "95adcc1a",
   "metadata": {},
   "outputs": [
    {
     "name": "stdout",
     "output_type": "stream",
     "text": [
      "Ingrese el nombre de la especie avistada\n",
      "(escriba '-1' para salir):\n",
      "Nicotiana alata\n",
      "Ingrese el nombre de la especie avistada\n",
      "(escriba '-1' para salir):\n",
      "N. benthamiana\n",
      "Ingrese el nombre de la especie avistada\n",
      "(escriba '-1' para salir):\n",
      "Arabidopsis thailana\n",
      "Ingrese el nombre de la especie avistada\n",
      "(escriba '-1' para salir):\n",
      "-1\n",
      "Las especies que se avistaron son: \n",
      "['Nicotiana alata', 'N. benthamiana', 'Arabidopsis thailana']\n"
     ]
    }
   ],
   "source": [
    "# While con evento\n",
    "\n",
    "especie = str(input(\"Ingrese el nombre de la especie avistada\\n(escriba '-1' para salir):\\n\" ))\n",
    "\n",
    "lista_especies = [ ]\n",
    "              \n",
    "while especie != '-1':\n",
    "    lista_especies.append(especie)\n",
    "    especie = str(input(\"Ingrese el nombre de la especie avistada\\n(escriba '-1' para salir):\\n\" ))\n",
    "\n",
    "print(\"Las especies que se avistaron son: \")\n",
    "print(lista_especies)"
   ]
  },
  {
   "cell_type": "code",
   "execution_count": 12,
   "id": "c2f93a10",
   "metadata": {},
   "outputs": [
    {
     "name": "stdout",
     "output_type": "stream",
     "text": [
      "mushito 7\n",
      "arrocillo 9\n",
      "iniap 5\n",
      "zapalote grande 15\n"
     ]
    }
   ],
   "source": [
    "# For-In\n",
    "\n",
    "variedades_maiz = [\"mushito\", \"arrocillo\", \"iniap\", \"zapalote grande\"]\n",
    "\n",
    "for variedad in variedades_maiz:\n",
    "    print(variedad, len(variedad))"
   ]
  },
  {
   "cell_type": "code",
   "execution_count": 10,
   "id": "29a99a28",
   "metadata": {},
   "outputs": [
    {
     "name": "stdout",
     "output_type": "stream",
     "text": [
      "m\n",
      "a\n",
      "i\n",
      "z\n"
     ]
    }
   ],
   "source": [
    "for i in variedades_maiz:\n",
    "    print(i[0])\n",
    "    "
   ]
  },
  {
   "cell_type": "code",
   "execution_count": 11,
   "id": "f47b75dc",
   "metadata": {},
   "outputs": [
    {
     "name": "stdout",
     "output_type": "stream",
     "text": [
      "0\n",
      "1\n",
      "2\n",
      "3\n",
      "4\n",
      "5\n"
     ]
    }
   ],
   "source": [
    "# For-In con rangos\n",
    "\n",
    "for i in range(6):\n",
    "    print(i*1)"
   ]
  },
  {
   "cell_type": "code",
   "execution_count": null,
   "id": "3cd6dc3a",
   "metadata": {},
   "outputs": [],
   "source": [
    "range[6]"
   ]
  },
  {
   "cell_type": "code",
   "execution_count": 16,
   "id": "d138ed42",
   "metadata": {},
   "outputs": [
    {
     "data": {
      "text/plain": [
       "'AGGTGCTCCGCGTGTCCCCAGCAACGATCCTGTCTAATCCTCAATACTCCCCTGTTTGAGAAGCCGTCACTGCTGTTTCCTGCACGTAATTATTCGCAAGAGCCTCTGTTCTCCGACTGATCTTGTGGTTAGCGGAGAGTCAAGCGCGGAGGGCTAGTAGTCCGTGGTGCACCAACAGTAGTAGTTAACATACCAAATTTACCGTAAGACGCGGTCAGGAATTAAACCTACAAGAAAATGCCAGCCCCCTGCGAGCGATGAGTTCTCGAATGCTGGGGAAGCATTATAATATCACTATGAACGAAAACGATGCAAGTATGACGTAACGAGTATGGTAATGGGAGGGAATA'"
      ]
     },
     "execution_count": 16,
     "metadata": {},
     "output_type": "execute_result"
    }
   ],
   "source": [
    "import random\n",
    "\n",
    "def generar_secuencia(tamaño = int(), codigo = \"ATCG\"):\n",
    "    secuencia = ''.join(random.choices(codigo, k = tamaño))\n",
    "    return secuencia\n",
    "    \n",
    "# Generar secuencia\n",
    "\n",
    "dna = generar_secuencia(350)\n",
    "dna"
   ]
  },
  {
   "cell_type": "code",
   "execution_count": 20,
   "id": "33590830",
   "metadata": {},
   "outputs": [
    {
     "name": "stdout",
     "output_type": "stream",
     "text": [
      "Contenido GC:  2.0\n"
     ]
    }
   ],
   "source": [
    "# Numero GC \n",
    "\n",
    "numero_GC = 0\n",
    "\n",
    "for i in dna: \n",
    "    for i in ['G', 'C']:\n",
    "        numero_GC += 1\n",
    "    \n",
    "print(\"Contenido GC: \", numero_GC/len(dna))"
   ]
  },
  {
   "cell_type": "code",
   "execution_count": 7,
   "id": "192d36e8",
   "metadata": {},
   "outputs": [],
   "source": [
    "# Listas de comprension\n",
    "## Generar una lista de 20 cadenas de DNA\n",
    "\n",
    "import random\n",
    "\n",
    "def generar_secuencia(tamaño = int(), codigo = \"ATCG\"):\n",
    "    secuencia = ''.join(random.choices(codigo, k = tamaño))\n",
    "    return secuencia\n",
    "\n",
    "seqs = [ ]\n",
    "\n",
    "for i in range(20):\n",
    "    seqs.append(generar_secuencia(350))"
   ]
  },
  {
   "cell_type": "code",
   "execution_count": 6,
   "id": "2b25d202",
   "metadata": {},
   "outputs": [
    {
     "data": {
      "text/plain": [
       "20"
      ]
     },
     "execution_count": 6,
     "metadata": {},
     "output_type": "execute_result"
    }
   ],
   "source": [
    "len(seqs)"
   ]
  },
  {
   "cell_type": "code",
   "execution_count": 8,
   "id": "03f725fd",
   "metadata": {},
   "outputs": [
    {
     "data": {
      "text/plain": [
       "20"
      ]
     },
     "execution_count": 8,
     "metadata": {},
     "output_type": "execute_result"
    }
   ],
   "source": [
    "# Listas de comprension\n",
    "\n",
    "seqs2 = [generar_secuencia(350) for i in range(20)]\n",
    "len(seqs2)"
   ]
  },
  {
   "cell_type": "code",
   "execution_count": 9,
   "id": "4cf096fd",
   "metadata": {},
   "outputs": [
    {
     "data": {
      "text/plain": [
       "['ACTTTATTGGGTTTGGCCAACTAACTTTCATGGTAATCGCCTAGCAGAACCTTGGGCGTGCGCTGCCAATAATATTACTGCTTTTGGGAACGAAGTTCCTGGCGCGATCGAGAACACAGCGCATTGGACCCCCTCATACAAGGGTCCCTCGTTCTACCACAGAATCCCTAAGTGGAACGTAGCGATGGTTAATAGTGGAGAAGATTAATACCCCACAATGGTCGGACGGACTCTAGGCAAGCCGGACTGGCAGATCATAAGTTTTGAGCCATCGCTAACGGTTACACTGAAATTCAAGCACTCTCGCTAGTAGTGCAGCCGGGTTGGCGAAAAAAAGGACCGCCACGACA',\n",
       " 'CCCCCAGACAATGGGGCAATGGGGTCCGAAATGTGCCAGAACTTCTCTGACCGCCCGCGAGAGGTCCTTGGTTCCCCTCCCTACAAACCCATCCAGATGGATTATTTGTGGCACCACCCACGCGGGGGACCGTGAGGGTTTGATTATAGATAATCGCGCGCTTCCTGTTACCACCGCACTCACATTTTACTTTAAATTATTCGGTGTAGCAAGTGAGTATCTCCACAGTGTAAATTAGCGGCTGCACCGTGGTGTTATTGATCCTCCAGTTGTCCCGTCCGCTGTATGGACCCTATCGCGGGTACCTTGACGGATTGCATCGTACGCACCTTACCTATAAGCCCTTGCAC',\n",
       " 'CAGGCGTTCCGGGGGTTGTCCACTTTGATATTCCCTCCACTGTCGGGCAGGCGTGCACACAGCCTCGGGGAGGGCGCCTTGTTGGAAGGCTCCATAAATTAAAATGATGACTCCGCCTACCCTGATCTCAACACGGTGCGTGGGCATTCGGACCTAACGTGCAGTGGTTGCAATATCGACTGGACACGCATAAAGGCATATATCCCACCCGCGGTATTCATGATCTGTTGCAGATAAGGGGTGCGTCCCTTTACTTGAGGCATAAGTGGTGGGGCATGCATTTTCTCAGAGTATTCCAAACCAGTGGTGCGACCCGAATCTTAAGTCAGTGTTAACAGTCCCGTGGTATG',\n",
       " 'CGGACTGGTTAAATAGTGATTTTTCTTGGCCCACCCTTCGGGTGACTTTGACCAAATATAATCTGAAAGGAACTGTTTTGTTGAAGACAGTCGGGCTGTTCCTATACCGTAACCGCCCACCAGTAGCTGGCGCGGGGGCGTTGTTTCGTTCATTCTGAGCACACCATTTGTGGGGCATATGAGTCAAGGCATTCGACTGACTCTCTGCCTACTGTAGACCAAAACCTCACCGTCTTATCGTCTAGTTCCGCTGCAAACCCAGAATTGACCATGGTTGTTGGCGCTGGCAAGTGGGTCGCGATATTCATGATGAAAGATCGCTTACCCTTCCAAACTATGGTAGATGAAAA',\n",
       " 'AGGGCCATGTTTCATGTTGATTTCAACAAAGACTCGAGGCGTACAGCGACCGCGCTGATACTCTTTTGAACCTACTTCGATAAAAGCTTAGAGGGCGCTTTGTCCACAAGGCTAGCAAGGGCGGGCGTAGCATGGATGTTCTTTTATCACTAACAAACTCAAAACAGGAGTCCGCGCGGGGTTCGGTCTGGAGAACGAACTGGACGCTGTTTTGACAGTTTATGAGCTAACGACTTAGACGCGCGTTCTCCTACGAGGTTAATATACTGGGCGCTAGCTACCGTTCAAACCGCGGATCATCAATCTAAAGCATCGGCCCAGTACGAAGCAGACCCATAATCTAGAAGGAC',\n",
       " 'TATTACAATGTAGCGTAGGTGCTCGCTGAAATCCACATAGTCCCCTTCGTCCATTACCACGGGTAAAGGTTACTGATACGAACACTTCTGCACGGACGCCTTCGCTGGGTAGGATCTAAATTCTACATCGGCATACGTCTTACAGCGTCTCAGTGGGTTTGCGGAAGACATCATGTCGTTTGCATTGCGGCCGTCACGGAGATGCCCGTAACCCGCTCCCGAAGGAGAACGACCTTCGTGCATTGGTTATGTCGATTAACGTTTGAGTTGCAGTTGTTCGGACAACTCACCTCTGATGGCAGGGTCCGCCGTGAGCTTTACACCAAGAGCTTTATGAGTTATGTACCAGG',\n",
       " 'CGTGGAGTGTAGTCCTTCTAATAGCTGGATTAAGTCACGGCCCCCCTGTGTTCACTCCGTGTCCCTCATTCCCTCAGCGGTTTTTCGACCTTAAAATTGCACCCATATTCTTGATAACCGTTCTGTGCGAATCGTTATTACCACAGGGGTTGGCCAGTTGTGAGGCATGAGCTAACGACGCCAAGGGGGATCTACATTCATTCGGAAAGTCACCTGTCGTTACAACATACTAAGACGCAGCACTCCTGTCCACCAGCTCACCAAAGTAATCAGCTGCCAGGCTTGCCTTCAATAACAGACCGCCTTGAATAATGAAAGGGCTAACCAGCACAAGAGGCTATGTATTCACA',\n",
       " 'TGGCCAAGGTAGAAAACTGTATGGGCCAACCTGGTGGACTATCACACTATTCGAACAGAGCAGGCCAGGATCGGTGAAATAATGTCCTGGTATCTGGTTGCAGAACCTAGGCATTCCCACCGTAAAATAGCCCGGTAACGGTGCACTAGAGTCGGTGTTTGTGATGCCCCCGGTTAGGTTTTAGATAGCCCAAAACCTACGCAATAAGTATGCCGTGTCTAAAGCACACTTAATGTCCGGCGGCGGCTGCTCTAAAGCCGAGTGCTTGGAGTCCCAAATCCATGCTGTGGGACTCCGCGGCAACCTTACTCCAGTCCGTCCAATCGACGTTATAAGTTACCCCTCGAACC',\n",
       " 'GGTTCTAGCCATACCCTGAGACAGATTCATCGCGCAAGTAGGGTAATCCGCCATACGGCGTCACGGGGCGATGCGAGAGCTCAGGAACCTGACTCTGTGAGAAAAAATGTAGTGAGGCGCACTACGTCTACGAGTTATTACGGGTGCGACATTCGCTGTTATGTGATCTGTAGGACATTGAGCATAAGGACGTACGCTAACGGCACATACCTTAAAAAAGAATAGTCGCGGCCGGCCGATCGTATTCATCGAGAGGAAGAACAGCACGAAACGCCCCGGTAAGGCAAACTCCTCGGTTTTTGAGGCTTTGTCACCACATCCTTCCACCACGGCTTTCGAATTAAGGTAAT',\n",
       " 'TAAATCAAGATGGGGTCGTCCATAGGAGACGGGAAGCCAAACTAGCCCAGTGTCCGAAGCTCCTTTCCTTCTTATGCCGATCAGATCCAATCACCTGATCACGCGCGGCACTGTGCGACAGTACCACATTCTACATGGGTGCTTCACCGCCAATAACATCTAGTCGAACTGACATTGCCTATAGAATAAGTTTTTTCCCTAGGTGAGAGCATTGTGACTGTTATAGTGGAAATGGGACTATTAATCCCCCCGCTTCAACTACTGAGTTTTAGGCTCCCAGTCAAGTTAGCCTATTGCCAGAGTATTGTGCGCCTCAAATGGACTCAGCTTTCACAACGGGTGCGTATGTA',\n",
       " 'AAACAGCCCGATTCACTCCCTGATGGTCAAGCATCAGACGACGAGCAGTCCCTGGCTCCACGCGTGCCAAGATCAGGCTTGGGGAGACGCTGGATTAGCAATTGAACTGCTTATTCTAGTGCGTATTGACGTCCAAGTGTGCGCCCCTATGCGCCGATGCAAGCACAGCTAGCCTATTCTCATTTAAATGACCTACGTGGTTATATTGTGCTCAGTCATGATCGAAGGACCAGCCCATACCCTCGTAATAGACTGAGCCGAAATCTTCGGACAAGAGTTTCTTGTCGCTTAGATTCTCATCTACAGGTTTACCTATGGCTAACGGGTGGAACTCTTGAGTATGGCTCCGG',\n",
       " 'GTACACGTGAGGCTGACGTCCTTCTGATCGTCGTGCGCTAAACATCATTCCATTAGGGATATGCTCACACATTGGCTAAGCAGTCGGACGACACGATGGGGTACAGTTACTTGATCTTTGAACGTTCCCGATAAATATACCAACGCAGCTTTCCTCTACTACCTAGCCTTGGATACCATGTTATTGTAAAGGAGTTAGTGCCCTGGGCGGCTAATTCGTCTGTGGGTCGAAAGATGCCCATACAAAATGCGGTACTTCTCGGCTGTATGAAGGGGAGAGCCTCCTTCGATGTCTTACAGTGCCTCACGCCTCGGGACCAGAACCGACAACTGCGTACGTTCGGTGTATCG',\n",
       " 'TATCGAAGCTCCCCAATGGAAGGGTTTCAGCGTTAAAACCTCGGTGACTCTGTGCAGTATCCACAGGCGACGGCTCTGTGCGCGGGTCCTCTTCCGAACATGCCATTATTGTTATCCTTTGTTGTTGTGCATTGGGAAATACGATCTCTGGCACCATTACAGACCCAATCTGGGTTCGCATCACGAGAAACGCACCAGACCGATGAACAATCAGAGCAGACAGGGTGGAGTACAGCAGTGTATTTCTAATTTCCTGCTCAGGTCGGCAACAAGCGGCCTAGACTATTAATAGATCCGTCCACTGTGGAGCACTCCTTGACGTTACTGCGTGTTCACGAGCATATCGCCTC',\n",
       " 'TGCACAAGTAAGGCTAGCGATTTTTTTCGCAGTTTGGCCTAACCAACGTTGTGGGGAATCACTAGAAAGCAACATCCGGATGGCACCCCATCCTGGCCATCGTTGCTACTAGGTGTTGCAGATGACCGGCTTTTTGTGAGAAATCTCTACATGAGCACTAGGAGGACCCTCCATAACCCGAGATGATACGGACCCTCCGCGTTTTTGGGGAGAAGTTTGAGCATCAACGAGTATCACGCCTCTTGGCCCCGAATGGAAAGGACCCGTCATTGCTGTGGTGGGTCTCTCGTTATTAAGCTGAGACTGACTACATGGCGCAGAGCGCCTCGAGTCAAGTCCGAGATAACTAC',\n",
       " 'TTTCGCCACCTATCCCTCTCCCATGCGTGCTCCTAACTTTAAGCACAAATTTGAACACTGAGCTCTGGACCATTAGTGCTACTCGCGACAATCCCAAGGGTATAGCGTTGCCGATTTACTCCGAATGCCACAGGCCGAGCTAATTAGGCACTAGGCCCCACCTAGGCGCCCCACAATCTCACTGCTGTGCCCTCCCAGACAATACGCTGTAGCTTCCGTACGGGGTCTCACAGTCTGCGGATGTTTATCCTATTTATTTAATGGATAGGCGTTTTGGCTCCAGAATGTAGGCCAGCAGGACATTAGGCACAGGGGGATTTGCATCACGAAAGTTAGGACGGCCAAAAGTA',\n",
       " 'TTCTTACTTAGGATCGATATCTCTGGTCCGGTTGACAGATATTAGACGGCGTTAGTGCTGACTACACCCTCGTTGTTCCCACGAAGAATCTGTCGCGCAGGCATGTCGAAGCCTCGTCGTCAATACCGGAAACAACACCGTACTGTGTGCATTCTGCAGTGCCTCACTCACAAAGCACTCTCGGACGGAACCAACAGTTAAGTCCGACCGACGCTGTAAGACTTATAAGGGGCGCTTCGATAGCGGCAGCCTGTAGTACGCTATTAGGATGGAGCCACAGGATGAATTTTTCGCAAGTAGGTCGGTCTCGTTTGGTGACGGGCTCGAGGCTCATTTCTCTCTATCTATCC',\n",
       " 'CGAACGATCGCTTAGCATTCCTGACCATATCCATGTTACCTCACGTGCCGAGTCAATATGAGGTGAAAGTTGTATTTACTTGGATGCGCCATAGAGATTACGGCCTAACGCCTACGTAGCATTGCGACCACACACCAGTTAGTTAAATGGCCGTCGCGTGTTGAGAAATGCGAGTTCTCTCCAGAGGCCCAAGTCCTAAGGAGGCCGAGAAATAGACGGCTTTTTCTATCCGCCTCTTGGCTGTATGCGCGTCGCACAGCTAGTGACGCCGCCGGTGCTGGCGCCCCAACCCTATTATTGTGTTAATTGTCTTGGTCGGTATGTTAACCAAGTGGGAGGGTCGACATTCT',\n",
       " 'AAATACATGGGAGTAGACGAGGATGTAAAGCCATAACCAAGATCAGAGCGTAAGGCTCCGACATACAACGAACAGCTTTGATTGTGCTGCCGAGCTGGAAGCGGGCAGCCCCATGTCTGCGGTCAAAGTATGGAAATCCAGAATTCCACGGCCTGAGAGCGCTCACCTCGGAGGGCCTTTATTAAGTGGTATGTATACTATGTTTTCACGTACTCGGGGTCGACCACTGTGGTAAGCCTGCCCCGTGAGATGGACCGTGGTTGGTGTACTGTTACTTGCACGTATTGAATAATTTAAGTATCCGTTATAGATATAAAGATAATTAGATATGTCTAACCCACTAGACAGAA',\n",
       " 'AAAGGCTCGTGTAAAGGGAGCTGTCGCATGATGCGTTATAAAGCAGAGGACGTTTACGGACGCATGGAGGCGCCGTTAAATTTATACTAGTCTAAGCGCCGTTCTTCGGCGAAAATCATCGGCTGTAACCATTAAATATACTCTGGAAGGGCGTTCCACGGAACAGTTCAAGGGTTTGAGAAGAATAACGCAGCACCTTCCACATCCCTTATTAACCGGACCAAACGTGACCCCTAGGTTCGGGCCGCAAGAGCACTCGTGGCTATGGGTGAAGAATTCAACCGTCGGGCAGACACTGCACAAACTAAAGGCTGCTATGAAAGCGACCCCTGAATTCGTAGGCATTCATA',\n",
       " 'AACAGACAAACTGCAGATCCATCCCTTTGTACCTCCAGCGACATACCCTTGGGACGCATCGGTAGTATTGGTTCGCGCCAATAACTGGGGTTGACCACAACTTTCCCCCTAGCTAGCCTATCAATGGGTGGACCAACGCACTTTTGCATCTACACTACTGTCTTCCGGTCCGAAGAGGTCGACTTCACCCTCGGTGCTCGTGAATAGACGAGCAGCACCCAATTATCCGTTGATATGTCTGCACTAGTGGTGGCCGACATCCCTTAAATACACCCCTCCGAACCACTGAACTATTCGAAGCTGGTACTAGTCGAGATTCGTCAGGGTATCGAAGTGTGACGGATGTTTCC']"
      ]
     },
     "execution_count": 9,
     "metadata": {},
     "output_type": "execute_result"
    }
   ],
   "source": [
    "seqs"
   ]
  },
  {
   "cell_type": "code",
   "execution_count": 14,
   "id": "daf47d55",
   "metadata": {},
   "outputs": [
    {
     "name": "stdout",
     "output_type": "stream",
     "text": [
      "Secuencia valida.\n"
     ]
    }
   ],
   "source": [
    "# Ultimo ejercicio para control de flujo\n",
    "\n",
    "dna = generar_secuencia(350)\n",
    "\n",
    "nucleotidos = [\"A\", \"T\", \"C\", \"G\"]\n",
    "\n",
    "for nucleotido in dna:\n",
    "    if nucleotido not in nucleotidos:\n",
    "        print(f\"La secuencia no es valida. El nucleotido {nucleotido} no existe.\")\n",
    "        break\n",
    "    else:\n",
    "        continue\n",
    "print(\"Secuencia valida.\")"
   ]
  },
  {
   "cell_type": "code",
   "execution_count": 15,
   "id": "9f0df405",
   "metadata": {},
   "outputs": [
    {
     "name": "stdout",
     "output_type": "stream",
     "text": [
      "La secuencia no es valida. El nucleotido X no existe.\n",
      "La secuencia no es valida. El nucleotido X no existe.\n",
      "La secuencia no es valida. El nucleotido X no existe.\n",
      "La secuencia no es valida. El nucleotido X no existe.\n",
      "La secuencia no es valida. El nucleotido X no existe.\n",
      "La secuencia no es valida. El nucleotido X no existe.\n",
      "La secuencia no es valida. El nucleotido X no existe.\n",
      "La secuencia no es valida. El nucleotido X no existe.\n",
      "La secuencia no es valida. El nucleotido X no existe.\n",
      "La secuencia no es valida. El nucleotido X no existe.\n",
      "La secuencia no es valida. El nucleotido X no existe.\n",
      "La secuencia no es valida. El nucleotido X no existe.\n",
      "La secuencia no es valida. El nucleotido X no existe.\n",
      "La secuencia no es valida. El nucleotido X no existe.\n",
      "La secuencia no es valida. El nucleotido X no existe.\n",
      "La secuencia no es valida. El nucleotido X no existe.\n",
      "La secuencia no es valida. El nucleotido X no existe.\n",
      "La secuencia no es valida. El nucleotido X no existe.\n",
      "La secuencia no es valida. El nucleotido X no existe.\n",
      "La secuencia no es valida. El nucleotido X no existe.\n",
      "La secuencia no es valida. El nucleotido X no existe.\n",
      "La secuencia no es valida. El nucleotido X no existe.\n",
      "La secuencia no es valida. El nucleotido X no existe.\n",
      "La secuencia no es valida. El nucleotido X no existe.\n",
      "La secuencia no es valida. El nucleotido X no existe.\n",
      "La secuencia no es valida. El nucleotido X no existe.\n",
      "La secuencia no es valida. El nucleotido X no existe.\n",
      "La secuencia no es valida. El nucleotido X no existe.\n",
      "La secuencia no es valida. El nucleotido X no existe.\n",
      "La secuencia no es valida. El nucleotido X no existe.\n",
      "La secuencia no es valida. El nucleotido X no existe.\n",
      "La secuencia no es valida. El nucleotido X no existe.\n",
      "La secuencia no es valida. El nucleotido X no existe.\n",
      "La secuencia no es valida. El nucleotido X no existe.\n",
      "La secuencia no es valida. El nucleotido X no existe.\n",
      "La secuencia no es valida. El nucleotido X no existe.\n",
      "La secuencia no es valida. El nucleotido X no existe.\n",
      "La secuencia no es valida. El nucleotido X no existe.\n",
      "La secuencia no es valida. El nucleotido X no existe.\n",
      "La secuencia no es valida. El nucleotido X no existe.\n",
      "La secuencia no es valida. El nucleotido X no existe.\n",
      "La secuencia no es valida. El nucleotido X no existe.\n",
      "La secuencia no es valida. El nucleotido X no existe.\n",
      "La secuencia no es valida. El nucleotido X no existe.\n",
      "La secuencia no es valida. El nucleotido X no existe.\n",
      "La secuencia no es valida. El nucleotido X no existe.\n",
      "La secuencia no es valida. El nucleotido X no existe.\n",
      "La secuencia no es valida. El nucleotido X no existe.\n",
      "La secuencia no es valida. El nucleotido X no existe.\n",
      "La secuencia no es valida. El nucleotido X no existe.\n",
      "La secuencia no es valida. El nucleotido X no existe.\n",
      "La secuencia no es valida. El nucleotido X no existe.\n",
      "La secuencia no es valida. El nucleotido X no existe.\n",
      "La secuencia no es valida. El nucleotido X no existe.\n",
      "La secuencia no es valida. El nucleotido X no existe.\n",
      "La secuencia no es valida. El nucleotido X no existe.\n",
      "La secuencia no es valida. El nucleotido X no existe.\n",
      "La secuencia no es valida. El nucleotido X no existe.\n",
      "La secuencia no es valida. El nucleotido X no existe.\n",
      "La secuencia no es valida. El nucleotido X no existe.\n",
      "La secuencia no es valida. El nucleotido X no existe.\n",
      "La secuencia no es valida. El nucleotido X no existe.\n",
      "La secuencia no es valida. El nucleotido X no existe.\n",
      "La secuencia no es valida. El nucleotido X no existe.\n",
      "La secuencia no es valida. El nucleotido X no existe.\n",
      "La secuencia no es valida. El nucleotido X no existe.\n",
      "La secuencia no es valida. El nucleotido X no existe.\n",
      "La secuencia no es valida. El nucleotido X no existe.\n",
      "La secuencia no es valida. El nucleotido X no existe.\n",
      "La secuencia no es valida. El nucleotido X no existe.\n",
      "La secuencia no es valida. El nucleotido X no existe.\n",
      "La secuencia no es valida. El nucleotido X no existe.\n",
      "La secuencia no es valida. El nucleotido X no existe.\n",
      "La secuencia no es valida. El nucleotido X no existe.\n",
      "La secuencia no es valida. El nucleotido X no existe.\n",
      "La secuencia no es valida. El nucleotido X no existe.\n",
      "La secuencia no es valida. El nucleotido X no existe.\n",
      "La secuencia no es valida. El nucleotido X no existe.\n",
      "La secuencia no es valida. El nucleotido X no existe.\n",
      "La secuencia no es valida. El nucleotido X no existe.\n",
      "La secuencia no es valida. El nucleotido X no existe.\n",
      "La secuencia no es valida. El nucleotido X no existe.\n",
      "La secuencia no es valida. El nucleotido X no existe.\n",
      "La secuencia no es valida. El nucleotido X no existe.\n",
      "La secuencia no es valida. El nucleotido X no existe.\n",
      "La secuencia no es valida. El nucleotido X no existe.\n",
      "La secuencia no es valida. El nucleotido X no existe.\n",
      "La secuencia no es valida. El nucleotido X no existe.\n",
      "La secuencia no es valida. El nucleotido X no existe.\n",
      "La secuencia no es valida. El nucleotido X no existe.\n",
      "La secuencia no es valida. El nucleotido X no existe.\n",
      "La secuencia no es valida. El nucleotido X no existe.\n",
      "La secuencia no es valida. El nucleotido X no existe.\n",
      "La secuencia no es valida. El nucleotido X no existe.\n",
      "La secuencia no es valida. El nucleotido X no existe.\n",
      "La secuencia no es valida. El nucleotido X no existe.\n",
      "La secuencia no es valida. El nucleotido X no existe.\n",
      "La secuencia no es valida. El nucleotido X no existe.\n",
      "La secuencia no es valida. El nucleotido X no existe.\n",
      "La secuencia no es valida. El nucleotido X no existe.\n",
      "La secuencia no es valida. El nucleotido X no existe.\n",
      "Secuencia valida\n"
     ]
    }
   ],
   "source": [
    "dna1 = dna.replace(\"A\", \"X\")\n",
    "\n",
    "for nucleotido in dna1:\n",
    "    if nucleotido not in nucleotidos:\n",
    "        print(f\"La secuencia no es valida. El nucleotido {nucleotido} no existe.\")\n",
    "    else:\n",
    "        continue\n",
    "print(\"Secuencia valida\")"
   ]
  },
  {
   "cell_type": "code",
   "execution_count": null,
   "id": "194df531",
   "metadata": {},
   "outputs": [],
   "source": []
  }
 ],
 "metadata": {
  "kernelspec": {
   "display_name": "Python 3 (ipykernel)",
   "language": "python",
   "name": "python3"
  },
  "language_info": {
   "codemirror_mode": {
    "name": "ipython",
    "version": 3
   },
   "file_extension": ".py",
   "mimetype": "text/x-python",
   "name": "python",
   "nbconvert_exporter": "python",
   "pygments_lexer": "ipython3",
   "version": "3.9.7"
  }
 },
 "nbformat": 4,
 "nbformat_minor": 5
}
