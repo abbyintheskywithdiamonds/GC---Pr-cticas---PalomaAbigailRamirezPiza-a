{
 "cells": [
  {
   "cell_type": "code",
   "execution_count": 1,
   "id": "e564ef2c",
   "metadata": {},
   "outputs": [
    {
     "name": "stdout",
     "output_type": "stream",
     "text": [
      "Help on built-in function round in module builtins:\n",
      "\n",
      "round(number, ndigits=None)\n",
      "    Round a number to a given precision in decimal digits.\n",
      "    \n",
      "    The return value is an integer if ndigits is omitted or None.  Otherwise\n",
      "    the return value has the same type as the number.  ndigits may be negative.\n",
      "\n"
     ]
    }
   ],
   "source": [
    "# Conocer parametros de una funcion integrada\n",
    "help(round)"
   ]
  },
  {
   "cell_type": "code",
   "execution_count": 2,
   "id": "6d2fe096",
   "metadata": {},
   "outputs": [
    {
     "data": {
      "text/plain": [
       "4.92"
      ]
     },
     "execution_count": 2,
     "metadata": {},
     "output_type": "execute_result"
    }
   ],
   "source": [
    "numero = 4.9237928598375893\n",
    "\n",
    "round(number = numero, ndigits=2)"
   ]
  },
  {
   "cell_type": "code",
   "execution_count": 3,
   "id": "e29ba671",
   "metadata": {},
   "outputs": [
    {
     "data": {
      "text/plain": [
       "4.92"
      ]
     },
     "execution_count": 3,
     "metadata": {},
     "output_type": "execute_result"
    }
   ],
   "source": [
    "round(numero, 2)"
   ]
  },
  {
   "cell_type": "code",
   "execution_count": 4,
   "id": "43131419",
   "metadata": {},
   "outputs": [
    {
     "data": {
      "text/plain": [
       "'ACCAGCACAGTAAATGTTTCCTACTGTTTCAAATGGGAGGACGGGAATAA'"
      ]
     },
     "execution_count": 4,
     "metadata": {},
     "output_type": "execute_result"
    }
   ],
   "source": [
    "# Funciones creadas\n",
    "\n",
    "import random\n",
    "\n",
    "def generar_secuencia(tamaño = int(), codigo = \"ATCG\"):\n",
    "    return''.join(random.choices(codigo, k = tamaño))\n",
    "\n",
    "# Llamar a la funcion\n",
    "dna = generar_secuencia(50)\n",
    "dna"
   ]
  },
  {
   "cell_type": "code",
   "execution_count": 19,
   "id": "284861c5",
   "metadata": {},
   "outputs": [
    {
     "ename": "NameError",
     "evalue": "name 'validar_secuencia' is not defined",
     "output_type": "error",
     "traceback": [
      "\u001b[1;31m---------------------------------------------------------------------------\u001b[0m",
      "\u001b[1;31mNameError\u001b[0m                                 Traceback (most recent call last)",
      "\u001b[1;32m~\\AppData\\Local\\Temp/ipykernel_1580/3746752595.py\u001b[0m in \u001b[0;36m<module>\u001b[1;34m\u001b[0m\n\u001b[0;32m     12\u001b[0m     \u001b[1;32mreturn\u001b[0m \u001b[1;32mTrue\u001b[0m\u001b[1;33m\u001b[0m\u001b[1;33m\u001b[0m\u001b[0m\n\u001b[0;32m     13\u001b[0m \u001b[1;33m\u001b[0m\u001b[0m\n\u001b[1;32m---> 14\u001b[1;33m \u001b[0mvalidar_secuencia\u001b[0m\u001b[1;33m(\u001b[0m\u001b[0mdna\u001b[0m\u001b[1;33m)\u001b[0m\u001b[1;33m\u001b[0m\u001b[1;33m\u001b[0m\u001b[0m\n\u001b[0m",
      "\u001b[1;31mNameError\u001b[0m: name 'validar_secuencia' is not defined"
     ]
    }
   ],
   "source": [
    "# Convertir programa para validar la secuencia en funcion\n",
    "\n",
    "def validar_seciencia(secuencia):\n",
    "    \n",
    "    nucleotidos = [\"A\", \"T\", \"C\", \"G\"]\n",
    "    \n",
    "    for nucleotido in secuencia:\n",
    "        if nucleotido not in nucleotidos:\n",
    "            return False\n",
    "        else:\n",
    "            continue\n",
    "    return True\n",
    "\n",
    "validar_secuencia(dna)"
   ]
  },
  {
   "cell_type": "code",
   "execution_count": 20,
   "id": "510f24a3",
   "metadata": {},
   "outputs": [
    {
     "name": "stdout",
     "output_type": "stream",
     "text": [
      "9\n"
     ]
    }
   ],
   "source": [
    "# Funciones anonimas\n",
    "## Funciones lambda\n",
    "\n",
    "cuadrado = lambda x: x** 2\n",
    "print(cuadrado(3))"
   ]
  },
  {
   "cell_type": "code",
   "execution_count": 21,
   "id": "96f9befb",
   "metadata": {},
   "outputs": [
    {
     "data": {
      "text/plain": [
       "[1, 4, 9, 16, 25, 36, 49]"
      ]
     },
     "execution_count": 21,
     "metadata": {},
     "output_type": "execute_result"
    }
   ],
   "source": [
    "# lista.append()\n",
    "\n",
    "numeros = [1, 2, 3, 4, 5, 6, 7]\n",
    "cuadrados = []\n",
    "\n",
    "for i in numeros:\n",
    "    cuadrados.append(i ** 2)\n",
    "\n",
    "cuadrados"
   ]
  },
  {
   "cell_type": "code",
   "execution_count": 22,
   "id": "e6f34a00",
   "metadata": {},
   "outputs": [
    {
     "data": {
      "text/plain": [
       "[1, 4, 9, 16, 25, 36, 49]"
      ]
     },
     "execution_count": 22,
     "metadata": {},
     "output_type": "execute_result"
    }
   ],
   "source": [
    "# map(): Aplica una funcion a cada elemento de una lista\n",
    "\n",
    "numeros = [1, 2, 3, 4, 5, 6, 7]\n",
    "cuadrados = list(map(lambda x : x ** 2, numeros))\n",
    "cuadrados"
   ]
  },
  {
   "cell_type": "code",
   "execution_count": null,
   "id": "53d7da10",
   "metadata": {},
   "outputs": [],
   "source": [
    "# Modulos propios\n",
    "\n",
    "import dna_modulo as dnamod"
   ]
  },
  {
   "cell_type": "code",
   "execution_count": null,
   "id": "533f1179",
   "metadata": {},
   "outputs": [],
   "source": [
    "help(generar_secuencia)"
   ]
  },
  {
   "cell_type": "code",
   "execution_count": null,
   "id": "55c6ae19",
   "metadata": {},
   "outputs": [],
   "source": [
    "# Usar funciones de modulos\n",
    "\n",
    "DNA = generar_secuencia(100)\n",
    "DNA_validado = validar_secuencia(DNA)\n",
    "numero_GC = 0\n",
    "\n",
    "if DNA_validado == True:\n",
    "    for i in DNA:\n",
    "        if i in ['G', 'C']:\n",
    "            numero_GC == 1\n",
    "    print(\"Contenido de GC: \", numero_GC/len(DNA))\n",
    "else:\n",
    "    print(\"Cadena no valida. No se puede calcular contenido de GC.\")\n",
    "    \n",
    "print(\"Fin del programa\")"
   ]
  },
  {
   "cell_type": "markdown",
   "id": "1727ef46",
   "metadata": {},
   "source": [
    "# Usar funciones de modulos/librerias/ ya creadas\n",
    "\n",
    "from Bio.seq import Seq\n",
    "\n",
    "# Create a sequence object\n",
    "\n",
    "secuencia = Seq(generar_secuencia(50))\n",
    "\n",
    "# Traduccion a aa\n",
    "\n",
    "print(secuencia)\n",
    "print(\"La traduccion de mi secuencia es: \", secuencia.translate())"
   ]
  },
  {
   "cell_type": "code",
   "execution_count": null,
   "id": "c05d359a",
   "metadata": {},
   "outputs": [],
   "source": [
    "help(Seq)"
   ]
  },
  {
   "cell_type": "code",
   "execution_count": null,
   "id": "d5844728",
   "metadata": {},
   "outputs": [],
   "source": []
  }
 ],
 "metadata": {
  "kernelspec": {
   "display_name": "Python 3 (ipykernel)",
   "language": "python",
   "name": "python3"
  },
  "language_info": {
   "codemirror_mode": {
    "name": "ipython",
    "version": 3
   },
   "file_extension": ".py",
   "mimetype": "text/x-python",
   "name": "python",
   "nbconvert_exporter": "python",
   "pygments_lexer": "ipython3",
   "version": "3.9.7"
  }
 },
 "nbformat": 4,
 "nbformat_minor": 5
}
